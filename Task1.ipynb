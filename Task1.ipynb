{
 "cells": [
  {
   "cell_type": "markdown",
   "id": "92d24e5d",
   "metadata": {},
   "source": [
    "# The Sparks Foundation\n",
    "\n",
    "## Aditya Sahu\n",
    "\n",
    "## GRIP Task 1: Prediction using Supervised ML\n",
    "\n",
    "## Aim: To predict the score of the student based on the no. of study hours."
   ]
  },
  {
   "cell_type": "markdown",
   "id": "3e21317d",
   "metadata": {},
   "source": [
    "### Importing required libraries"
   ]
  },
  {
   "cell_type": "code",
   "execution_count": 62,
   "id": "63cdad03",
   "metadata": {},
   "outputs": [],
   "source": [
    "import pandas as pd\n",
    "import numpy as np  \n",
    "import matplotlib.pyplot as plt  \n",
    "%matplotlib inline\n",
    "from sklearn.model_selection import train_test_split\n",
    "from sklearn.linear_model import LinearRegression\n",
    "from sklearn import metrics"
   ]
  },
  {
   "cell_type": "markdown",
   "id": "b8929c3f",
   "metadata": {},
   "source": [
    "### Reading data from given database/url"
   ]
  },
  {
   "cell_type": "code",
   "execution_count": 61,
   "id": "9e242eff",
   "metadata": {},
   "outputs": [
    {
     "data": {
      "text/html": [
       "<div>\n",
       "<style scoped>\n",
       "    .dataframe tbody tr th:only-of-type {\n",
       "        vertical-align: middle;\n",
       "    }\n",
       "\n",
       "    .dataframe tbody tr th {\n",
       "        vertical-align: top;\n",
       "    }\n",
       "\n",
       "    .dataframe thead th {\n",
       "        text-align: right;\n",
       "    }\n",
       "</style>\n",
       "<table border=\"1\" class=\"dataframe\">\n",
       "  <thead>\n",
       "    <tr style=\"text-align: right;\">\n",
       "      <th></th>\n",
       "      <th>Hours</th>\n",
       "      <th>Scores</th>\n",
       "    </tr>\n",
       "  </thead>\n",
       "  <tbody>\n",
       "    <tr>\n",
       "      <th>0</th>\n",
       "      <td>2.5</td>\n",
       "      <td>21</td>\n",
       "    </tr>\n",
       "    <tr>\n",
       "      <th>1</th>\n",
       "      <td>5.1</td>\n",
       "      <td>47</td>\n",
       "    </tr>\n",
       "    <tr>\n",
       "      <th>2</th>\n",
       "      <td>3.2</td>\n",
       "      <td>27</td>\n",
       "    </tr>\n",
       "    <tr>\n",
       "      <th>3</th>\n",
       "      <td>8.5</td>\n",
       "      <td>75</td>\n",
       "    </tr>\n",
       "    <tr>\n",
       "      <th>4</th>\n",
       "      <td>3.5</td>\n",
       "      <td>30</td>\n",
       "    </tr>\n",
       "  </tbody>\n",
       "</table>\n",
       "</div>"
      ],
      "text/plain": [
       "   Hours  Scores\n",
       "0    2.5      21\n",
       "1    5.1      47\n",
       "2    3.2      27\n",
       "3    8.5      75\n",
       "4    3.5      30"
      ]
     },
     "execution_count": 61,
     "metadata": {},
     "output_type": "execute_result"
    }
   ],
   "source": [
    "data = pd.read_csv('http://bit.ly/w-data')\n",
    "data.head(5)                         # 5 rows sample from our data"
   ]
  },
  {
   "cell_type": "markdown",
   "id": "fdcc5b06",
   "metadata": {},
   "source": [
    "## Plot of Given Data - Relation between Hours and Scores"
   ]
  },
  {
   "cell_type": "code",
   "execution_count": 13,
   "id": "5b260ae9",
   "metadata": {},
   "outputs": [
    {
     "data": {
      "image/png": "[encoded data removed]",
      "text/plain": [
       "<Figure size 432x288 with 1 Axes>"
      ]
     },
     "metadata": {
      "needs_background": "light"
     },
     "output_type": "display_data"
    }
   ],
   "source": [
    "data.plot.scatter(x='Hours', y='Scores', c='Blue')\n",
    "plt.show()"
   ]
  },
  {
   "cell_type": "markdown",
   "id": "530cc1d3",
   "metadata": {},
   "source": [
    "### Here we can see a approximate linear relationship, therefore to predict scores we can use linear regression"
   ]
  },
  {
   "cell_type": "markdown",
   "id": "563a1cc0",
   "metadata": {},
   "source": [
    "#####  In Regression, Scores are our target variable and Hours are features. So, we divide them into X and Y respectively "
   ]
  },
  {
   "cell_type": "code",
   "execution_count": 38,
   "id": "1a167f5c",
   "metadata": {},
   "outputs": [],
   "source": [
    "X = (np.array(data['Hours'])).reshape(-1, 1)\n",
    "Y = (np.array(data['Scores'])).reshape(-1, 1)"
   ]
  },
  {
   "cell_type": "markdown",
   "id": "6507f49f",
   "metadata": {},
   "source": [
    "### Splitting Data into training and testing datasets "
   ]
  },
  {
   "cell_type": "code",
   "execution_count": 18,
   "id": "5e09a45d",
   "metadata": {},
   "outputs": [],
   "source": [
    "# Training set is used to train the model and testing set is used to check our model's accuracy\n",
    "# Our 75% data used in training and remaining 25% used for testing"
   ]
  },
  {
   "cell_type": "code",
   "execution_count": 39,
   "id": "8d47a4bb",
   "metadata": {},
   "outputs": [],
   "source": [
    "X_train, X_test, Y_train, Y_test = train_test_split(X, Y, test_size = 0.25, random_state = 0)"
   ]
  },
  {
   "cell_type": "markdown",
   "id": "172fd0d4",
   "metadata": {},
   "source": [
    "# Model Fitting and training the Algorithm"
   ]
  },
  {
   "cell_type": "code",
   "execution_count": 40,
   "id": "f49b11a0",
   "metadata": {},
   "outputs": [
    {
     "name": "stdout",
     "output_type": "stream",
     "text": [
      "Training Complete\n"
     ]
    }
   ],
   "source": [
    "model = LinearRegression().fit(X_train, Y_train)\n",
    "print('Training Complete')"
   ]
  },
  {
   "cell_type": "markdown",
   "id": "10bf37c4",
   "metadata": {},
   "source": [
    "#### Equation of a straight line is (y = mx +c), where m= slope and c = intercept of line"
   ]
  },
  {
   "cell_type": "code",
   "execution_count": 45,
   "id": "4bc5f0cb",
   "metadata": {},
   "outputs": [],
   "source": [
    "slope = model.coef_\n",
    "c = model.intercept_\n",
    "\n",
    "line = slope*X + c"
   ]
  },
  {
   "cell_type": "markdown",
   "id": "53d3134f",
   "metadata": {},
   "source": [
    "## Plotting Regression model line with our actual data"
   ]
  },
  {
   "cell_type": "code",
   "execution_count": 49,
   "id": "f0d58a18",
   "metadata": {},
   "outputs": [
    {
     "data": {
      "image/png": "[encoded data removed]",
      "text/plain": [
       "<Figure size 432x288 with 1 Axes>"
      ]
     },
     "metadata": {
      "needs_background": "light"
     },
     "output_type": "display_data"
    }
   ],
   "source": [
    "plt.fgure()\n",
    "plt.scatter(X, Y, color=\"red\", label=\"Original Data\")\n",
    "plt.plot(X, line)\n",
    "plt.legend()\n",
    "plt.show()"
   ]
  },
  {
   "cell_type": "markdown",
   "id": "02fa7079",
   "metadata": {},
   "source": [
    "### Comparison of Prediction and Testing data"
   ]
  },
  {
   "cell_type": "code",
   "execution_count": 60,
   "id": "505a345e",
   "metadata": {},
   "outputs": [
    {
     "data": {
      "text/html": [
       "<div>\n",
       "<style scoped>\n",
       "    .dataframe tbody tr th:only-of-type {\n",
       "        vertical-align: middle;\n",
       "    }\n",
       "\n",
       "    .dataframe tbody tr th {\n",
       "        vertical-align: top;\n",
       "    }\n",
       "\n",
       "    .dataframe thead th {\n",
       "        text-align: right;\n",
       "    }\n",
       "</style>\n",
       "<table border=\"1\" class=\"dataframe\">\n",
       "  <thead>\n",
       "    <tr style=\"text-align: right;\">\n",
       "      <th></th>\n",
       "      <th>Testing data</th>\n",
       "      <th>Predicted</th>\n",
       "    </tr>\n",
       "  </thead>\n",
       "  <tbody>\n",
       "    <tr>\n",
       "      <th>0</th>\n",
       "      <td>20</td>\n",
       "      <td>16.844722</td>\n",
       "    </tr>\n",
       "    <tr>\n",
       "      <th>1</th>\n",
       "      <td>27</td>\n",
       "      <td>33.745575</td>\n",
       "    </tr>\n",
       "    <tr>\n",
       "      <th>2</th>\n",
       "      <td>69</td>\n",
       "      <td>75.500624</td>\n",
       "    </tr>\n",
       "    <tr>\n",
       "      <th>3</th>\n",
       "      <td>30</td>\n",
       "      <td>26.786400</td>\n",
       "    </tr>\n",
       "    <tr>\n",
       "      <th>4</th>\n",
       "      <td>62</td>\n",
       "      <td>60.588106</td>\n",
       "    </tr>\n",
       "    <tr>\n",
       "      <th>5</th>\n",
       "      <td>35</td>\n",
       "      <td>39.710582</td>\n",
       "    </tr>\n",
       "    <tr>\n",
       "      <th>6</th>\n",
       "      <td>24</td>\n",
       "      <td>20.821393</td>\n",
       "    </tr>\n",
       "  </tbody>\n",
       "</table>\n",
       "</div>"
      ],
      "text/plain": [
       "   Testing data  Predicted\n",
       "0            20  16.844722\n",
       "1            27  33.745575\n",
       "2            69  75.500624\n",
       "3            30  26.786400\n",
       "4            62  60.588106\n",
       "5            35  39.710582\n",
       "6            24  20.821393"
      ]
     },
     "execution_count": 60,
     "metadata": {},
     "output_type": "execute_result"
    }
   ],
   "source": [
    "predict = model.predict(X_test)\n",
    "\n",
    "com = pd.DataFrame()\n",
    "com['Testing data'] = Y_test.flatten(order='C')\n",
    "com['Predicted'] = predict.flatten(order='C')\n",
    "com"
   ]
  },
  {
   "cell_type": "markdown",
   "id": "4f6b632f",
   "metadata": {},
   "source": [
    "## Evaluating Accuracy of Our Regression model"
   ]
  },
  {
   "cell_type": "code",
   "execution_count": 65,
   "id": "ad66cc94",
   "metadata": {},
   "outputs": [
    {
     "name": "stdout",
     "output_type": "stream",
     "text": [
      "Mean Absolute Error (MAE)  4.130879918502486\n",
      "Mean Squared Error (MSE)  20.33292367497997\n",
      "Root Mean Squared Error (RMSE)  4.5092043283688055\n"
     ]
    }
   ],
   "source": [
    "# calculate MAE, MSE, RMSE\n",
    "print(\"Mean Absolute Error (MAE) \", metrics.mean_absolute_error(Y_test, predict))    \n",
    "print(\"Mean Squared Error (MSE) \", metrics.mean_squared_error(Y_test, predict))\n",
    "print(\"Root Mean Squared Error (RMSE) \", np.sqrt(metrics.mean_squared_error(Y_test, predict)))"
   ]
  },
  {
   "cell_type": "markdown",
   "id": "ce35c6f9",
   "metadata": {},
   "source": [
    "### What will be predicted score if a student studies for 9.25 hrs/ day?"
   ]
  },
  {
   "cell_type": "markdown",
   "id": "ddf93c9f",
   "metadata": {},
   "source": [
    "### Here,  we predict the score corresponding to hours = 9.25"
   ]
  },
  {
   "cell_type": "code",
   "execution_count": 73,
   "id": "5f8ab5da",
   "metadata": {},
   "outputs": [
    {
     "name": "stdout",
     "output_type": "stream",
     "text": [
      "Predicted Score =  [93.89272889]\n"
     ]
    }
   ],
   "source": [
    "Predicted_score = model.predict([[9.25]])\n",
    "print(\"Predicted Score = \", Predicted_score[0])"
   ]
  }
 ],
 "metadata": {
  "kernelspec": {
   "display_name": "Python 3",
   "language": "python",
   "name": "python3"
  },
  "language_info": {
   "codemirror_mode": {
    "name": "ipython",
    "version": 3
   },
   "file_extension": ".py",
   "mimetype": "text/x-python",
   "name": "python",
   "nbconvert_exporter": "python",
   "pygments_lexer": "ipython3",
   "version": "3.8.8"
  }
 },
 "nbformat": 4,
 "nbformat_minor": 5
}
